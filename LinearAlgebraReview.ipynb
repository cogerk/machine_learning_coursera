{
 "cells": [
  {
   "cell_type": "code",
   "execution_count": 3,
   "id": "d79c1742-3da4-46a4-ae52-dc2bb8e73061",
   "metadata": {},
   "outputs": [],
   "source": [
    "import numpy as np"
   ]
  },
  {
   "cell_type": "markdown",
   "id": "19430a9a-d4e6-4efe-ae0a-d828750a15be",
   "metadata": {},
   "source": [
    "Matrix"
   ]
  },
  {
   "cell_type": "code",
   "execution_count": 4,
   "id": "977ecb6a-e6f3-40ca-9734-4eb4abbfe1cf",
   "metadata": {},
   "outputs": [
    {
     "data": {
      "text/plain": [
       "matrix([[ 1,  2,  3],\n",
       "        [ 4,  5,  6],\n",
       "        [ 7,  8,  9],\n",
       "        [10, 11, 12]])"
      ]
     },
     "execution_count": 4,
     "metadata": {},
     "output_type": "execute_result"
    }
   ],
   "source": [
    "np.matrix('1, 2, 3; 4, 5, 6; 7, 8, 9; 10, 11, 12')"
   ]
  },
  {
   "cell_type": "code",
   "execution_count": 18,
   "id": "734ac22d-1c06-4b7b-836f-fab2d317e760",
   "metadata": {},
   "outputs": [
    {
     "data": {
      "text/plain": [
       "matrix([[ 1,  2,  3],\n",
       "        [ 4,  5,  6],\n",
       "        [ 7,  8,  9],\n",
       "        [10, 11, 12]])"
      ]
     },
     "execution_count": 18,
     "metadata": {},
     "output_type": "execute_result"
    }
   ],
   "source": [
    "A = np.matrix([[1, 2, 3], [4, 5, 6], [7, 8, 9], [10, 11, 12]])\n",
    "A"
   ]
  },
  {
   "cell_type": "markdown",
   "id": "c8a70004-8d93-4586-9a17-3a7cc0e0aa27",
   "metadata": {},
   "source": [
    "Vectors"
   ]
  },
  {
   "cell_type": "code",
   "execution_count": 19,
   "id": "644a6e90-461e-40e9-9e7c-c05d8941c937",
   "metadata": {},
   "outputs": [
    {
     "data": {
      "text/plain": [
       "matrix([[1],\n",
       "        [2],\n",
       "        [3]])"
      ]
     },
     "execution_count": 19,
     "metadata": {},
     "output_type": "execute_result"
    }
   ],
   "source": [
    "v=np.matrix('1;2;3')\n",
    "v"
   ]
  },
  {
   "cell_type": "markdown",
   "id": "331acb33-b591-411d-991e-81ca2c9a84b3",
   "metadata": {},
   "source": [
    "Dimensions"
   ]
  },
  {
   "cell_type": "code",
   "execution_count": 16,
   "id": "20963a29-0e9f-4191-87d1-5362383754a0",
   "metadata": {},
   "outputs": [
    {
     "data": {
      "text/plain": [
       "(4, 3)"
      ]
     },
     "execution_count": 16,
     "metadata": {},
     "output_type": "execute_result"
    }
   ],
   "source": [
    "(m,n) = A.shape\n",
    "\n",
    "(m,n)"
   ]
  },
  {
   "cell_type": "code",
   "execution_count": 21,
   "id": "b170fe28-1db1-468f-ac39-0f2809079f52",
   "metadata": {},
   "outputs": [
    {
     "data": {
      "text/plain": [
       "(3, 1)"
      ]
     },
     "execution_count": 21,
     "metadata": {},
     "output_type": "execute_result"
    }
   ],
   "source": [
    "dim_v = v.shape\n",
    "\n",
    "dim_v"
   ]
  },
  {
   "cell_type": "markdown",
   "id": "6334fd4b-1a34-42ac-90d0-3c9e579ee38e",
   "metadata": {},
   "source": [
    "Matrix Indexing"
   ]
  },
  {
   "cell_type": "code",
   "execution_count": 23,
   "id": "6bd60774-45f2-414b-bc58-9d4dc0873773",
   "metadata": {},
   "outputs": [
    {
     "data": {
      "text/plain": [
       "6"
      ]
     },
     "execution_count": 23,
     "metadata": {},
     "output_type": "execute_result"
    }
   ],
   "source": [
    "A_23 = A[1,2]\n",
    "\n",
    "A_23"
   ]
  },
  {
   "cell_type": "markdown",
   "id": "054211c4-cbae-40df-a14f-b557458e8ee6",
   "metadata": {},
   "source": [
    "Matrix Addition & Matrix-Scalar Multiplication"
   ]
  },
  {
   "cell_type": "code",
   "execution_count": 24,
   "id": "1f7b7689-4013-437f-aa37-ee37b09a64bf",
   "metadata": {},
   "outputs": [
    {
     "data": {
      "text/plain": [
       "matrix([[2, 5, 8],\n",
       "        [6, 4, 3]])"
      ]
     },
     "execution_count": 24,
     "metadata": {},
     "output_type": "execute_result"
    }
   ],
   "source": [
    "A = np.matrix('1, 2, 4; 5, 3, 2')\n",
    "B = np.matrix('1, 3, 4; 1, 1, 1')\n",
    "\n",
    "s=2\n",
    "\n",
    "add_AB = A + B\n",
    "add_AB"
   ]
  },
  {
   "cell_type": "code",
   "execution_count": 25,
   "id": "da318468-6eaf-4bc4-b482-07b0c36a3340",
   "metadata": {},
   "outputs": [
    {
     "data": {
      "text/plain": [
       "matrix([[ 0, -1,  0],\n",
       "        [ 4,  2,  1]])"
      ]
     },
     "execution_count": 25,
     "metadata": {},
     "output_type": "execute_result"
    }
   ],
   "source": [
    "sub_AB = A-B\n",
    "sub_AB "
   ]
  },
  {
   "cell_type": "code",
   "execution_count": 26,
   "id": "f41bcbc0-2be8-4659-ac75-e89d059e14cf",
   "metadata": {},
   "outputs": [
    {
     "data": {
      "text/plain": [
       "matrix([[ 2,  4,  8],\n",
       "        [10,  6,  4]])"
      ]
     },
     "execution_count": 26,
     "metadata": {},
     "output_type": "execute_result"
    }
   ],
   "source": [
    "mult_As=A*s\n",
    "mult_As"
   ]
  },
  {
   "cell_type": "code",
   "execution_count": 28,
   "id": "aab82876-4169-446c-9429-7d7d042fc131",
   "metadata": {},
   "outputs": [
    {
     "data": {
      "text/plain": [
       "matrix([[0.5, 1. , 2. ],\n",
       "        [2.5, 1.5, 1. ]])"
      ]
     },
     "execution_count": 28,
     "metadata": {},
     "output_type": "execute_result"
    }
   ],
   "source": [
    "div_As = A/s\n",
    "div_As"
   ]
  },
  {
   "cell_type": "code",
   "execution_count": 29,
   "id": "5b23db51-3313-400d-9c01-3c7c4eab4b98",
   "metadata": {},
   "outputs": [
    {
     "data": {
      "text/plain": [
       "matrix([[3, 4, 6],\n",
       "        [7, 5, 4]])"
      ]
     },
     "execution_count": 29,
     "metadata": {},
     "output_type": "execute_result"
    }
   ],
   "source": [
    "add_As = A+s\n",
    "add_As"
   ]
  },
  {
   "cell_type": "code",
   "execution_count": null,
   "id": "34ba3cea-3237-4029-9cdf-02f3c3e6d9f5",
   "metadata": {},
   "outputs": [],
   "source": []
  }
 ],
 "metadata": {
  "kernelspec": {
   "display_name": "Python 3 (ipykernel)",
   "language": "python",
   "name": "python3"
  },
  "language_info": {
   "codemirror_mode": {
    "name": "ipython",
    "version": 3
   },
   "file_extension": ".py",
   "mimetype": "text/x-python",
   "name": "python",
   "nbconvert_exporter": "python",
   "pygments_lexer": "ipython3",
   "version": "3.8.10"
  }
 },
 "nbformat": 4,
 "nbformat_minor": 5
}
