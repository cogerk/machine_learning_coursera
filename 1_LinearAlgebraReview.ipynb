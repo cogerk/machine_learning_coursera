{
 "cells": [
  {
   "cell_type": "code",
   "execution_count": 2,
   "id": "d79c1742-3da4-46a4-ae52-dc2bb8e73061",
   "metadata": {},
   "outputs": [],
   "source": [
    "import numpy as np"
   ]
  },
  {
   "cell_type": "markdown",
   "id": "19430a9a-d4e6-4efe-ae0a-d828750a15be",
   "metadata": {},
   "source": [
    "Matrix"
   ]
  },
  {
   "cell_type": "code",
   "execution_count": 3,
   "id": "977ecb6a-e6f3-40ca-9734-4eb4abbfe1cf",
   "metadata": {},
   "outputs": [
    {
     "data": {
      "text/plain": [
       "matrix([[ 1,  2,  3],\n",
       "        [ 4,  5,  6],\n",
       "        [ 7,  8,  9],\n",
       "        [10, 11, 12]])"
      ]
     },
     "execution_count": 3,
     "metadata": {},
     "output_type": "execute_result"
    }
   ],
   "source": [
    "np.matrix('1, 2, 3; 4, 5, 6; 7, 8, 9; 10, 11, 12')"
   ]
  },
  {
   "cell_type": "code",
   "execution_count": 18,
   "id": "734ac22d-1c06-4b7b-836f-fab2d317e760",
   "metadata": {},
   "outputs": [
    {
     "data": {
      "text/plain": [
       "matrix([[ 1,  2,  3],\n",
       "        [ 4,  5,  6],\n",
       "        [ 7,  8,  9],\n",
       "        [10, 11, 12]])"
      ]
     },
     "execution_count": 18,
     "metadata": {},
     "output_type": "execute_result"
    }
   ],
   "source": [
    "A = np.matrix([[1, 2, 3], [4, 5, 6], [7, 8, 9], [10, 11, 12]])\n",
    "A"
   ]
  },
  {
   "cell_type": "markdown",
   "id": "c8a70004-8d93-4586-9a17-3a7cc0e0aa27",
   "metadata": {},
   "source": [
    "Vectors"
   ]
  },
  {
   "cell_type": "code",
   "execution_count": 19,
   "id": "644a6e90-461e-40e9-9e7c-c05d8941c937",
   "metadata": {},
   "outputs": [
    {
     "data": {
      "text/plain": [
       "matrix([[1],\n",
       "        [2],\n",
       "        [3]])"
      ]
     },
     "execution_count": 19,
     "metadata": {},
     "output_type": "execute_result"
    }
   ],
   "source": [
    "v=np.matrix('1;2;3')\n",
    "v"
   ]
  },
  {
   "cell_type": "markdown",
   "id": "331acb33-b591-411d-991e-81ca2c9a84b3",
   "metadata": {},
   "source": [
    "Dimensions"
   ]
  },
  {
   "cell_type": "code",
   "execution_count": 16,
   "id": "20963a29-0e9f-4191-87d1-5362383754a0",
   "metadata": {},
   "outputs": [
    {
     "data": {
      "text/plain": [
       "(4, 3)"
      ]
     },
     "execution_count": 16,
     "metadata": {},
     "output_type": "execute_result"
    }
   ],
   "source": [
    "(m,n) = A.shape\n",
    "\n",
    "(m,n)"
   ]
  },
  {
   "cell_type": "code",
   "execution_count": 21,
   "id": "b170fe28-1db1-468f-ac39-0f2809079f52",
   "metadata": {},
   "outputs": [
    {
     "data": {
      "text/plain": [
       "(3, 1)"
      ]
     },
     "execution_count": 21,
     "metadata": {},
     "output_type": "execute_result"
    }
   ],
   "source": [
    "dim_v = v.shape\n",
    "\n",
    "dim_v"
   ]
  },
  {
   "cell_type": "markdown",
   "id": "6334fd4b-1a34-42ac-90d0-3c9e579ee38e",
   "metadata": {},
   "source": [
    "Matrix Indexing"
   ]
  },
  {
   "cell_type": "code",
   "execution_count": 23,
   "id": "6bd60774-45f2-414b-bc58-9d4dc0873773",
   "metadata": {},
   "outputs": [
    {
     "data": {
      "text/plain": [
       "6"
      ]
     },
     "execution_count": 23,
     "metadata": {},
     "output_type": "execute_result"
    }
   ],
   "source": [
    "A_23 = A[1,2]\n",
    "\n",
    "A_23"
   ]
  },
  {
   "cell_type": "markdown",
   "id": "054211c4-cbae-40df-a14f-b557458e8ee6",
   "metadata": {},
   "source": [
    "Matrix Addition & Matrix-Scalar Multiplication"
   ]
  },
  {
   "cell_type": "code",
   "execution_count": 24,
   "id": "1f7b7689-4013-437f-aa37-ee37b09a64bf",
   "metadata": {},
   "outputs": [
    {
     "data": {
      "text/plain": [
       "matrix([[2, 5, 8],\n",
       "        [6, 4, 3]])"
      ]
     },
     "execution_count": 24,
     "metadata": {},
     "output_type": "execute_result"
    }
   ],
   "source": [
    "A = np.matrix('1, 2, 4; 5, 3, 2')\n",
    "B = np.matrix('1, 3, 4; 1, 1, 1')\n",
    "\n",
    "s=2\n",
    "\n",
    "add_AB = A + B\n",
    "add_AB"
   ]
  },
  {
   "cell_type": "code",
   "execution_count": 25,
   "id": "da318468-6eaf-4bc4-b482-07b0c36a3340",
   "metadata": {},
   "outputs": [
    {
     "data": {
      "text/plain": [
       "matrix([[ 0, -1,  0],\n",
       "        [ 4,  2,  1]])"
      ]
     },
     "execution_count": 25,
     "metadata": {},
     "output_type": "execute_result"
    }
   ],
   "source": [
    "sub_AB = A-B\n",
    "sub_AB "
   ]
  },
  {
   "cell_type": "code",
   "execution_count": 26,
   "id": "f41bcbc0-2be8-4659-ac75-e89d059e14cf",
   "metadata": {},
   "outputs": [
    {
     "data": {
      "text/plain": [
       "matrix([[ 2,  4,  8],\n",
       "        [10,  6,  4]])"
      ]
     },
     "execution_count": 26,
     "metadata": {},
     "output_type": "execute_result"
    }
   ],
   "source": [
    "mult_As=A*s\n",
    "mult_As"
   ]
  },
  {
   "cell_type": "code",
   "execution_count": 28,
   "id": "aab82876-4169-446c-9429-7d7d042fc131",
   "metadata": {},
   "outputs": [
    {
     "data": {
      "text/plain": [
       "matrix([[0.5, 1. , 2. ],\n",
       "        [2.5, 1.5, 1. ]])"
      ]
     },
     "execution_count": 28,
     "metadata": {},
     "output_type": "execute_result"
    }
   ],
   "source": [
    "div_As = A/s\n",
    "div_As"
   ]
  },
  {
   "cell_type": "code",
   "execution_count": 29,
   "id": "5b23db51-3313-400d-9c01-3c7c4eab4b98",
   "metadata": {},
   "outputs": [
    {
     "data": {
      "text/plain": [
       "matrix([[3, 4, 6],\n",
       "        [7, 5, 4]])"
      ]
     },
     "execution_count": 29,
     "metadata": {},
     "output_type": "execute_result"
    }
   ],
   "source": [
    "add_As = A+s\n",
    "add_As"
   ]
  },
  {
   "cell_type": "markdown",
   "id": "68b83b4f-b8f2-49a0-96a8-0fb1762ee1c9",
   "metadata": {},
   "source": [
    "Matrix-Vector Multiplication"
   ]
  },
  {
   "cell_type": "code",
   "execution_count": 4,
   "id": "34ba3cea-3237-4029-9cdf-02f3c3e6d9f5",
   "metadata": {},
   "outputs": [
    {
     "data": {
      "text/plain": [
       "matrix([[ 6],\n",
       "        [15],\n",
       "        [24]])"
      ]
     },
     "execution_count": 4,
     "metadata": {},
     "output_type": "execute_result"
    }
   ],
   "source": [
    "# Initialize matrix A \n",
    "A = np.matrix('1, 2, 3; 4, 5, 6;7, 8, 9')\n",
    "\n",
    "# Initialize vector v \n",
    "v = np.matrix('1; 1; 1')\n",
    "\n",
    "# Multiply A * v\n",
    "Av = A * v\n",
    "\n",
    "Av"
   ]
  },
  {
   "cell_type": "markdown",
   "id": "baf09575-c53d-47a5-8bbe-43329b1251e2",
   "metadata": {},
   "source": [
    "Matrix-Matrix Multiplication"
   ]
  },
  {
   "cell_type": "code",
   "execution_count": 5,
   "id": "0c795e3d-52b6-48b1-99a2-2aa6a7b8de8d",
   "metadata": {},
   "outputs": [
    {
     "data": {
      "text/plain": [
       "matrix([[ 5],\n",
       "        [11],\n",
       "        [17]])"
      ]
     },
     "execution_count": 5,
     "metadata": {},
     "output_type": "execute_result"
    }
   ],
   "source": [
    "# Initialize a 3 by 2 matrix \n",
    "A = np.matrix('1, 2; 3, 4;5, 6')\n",
    "\n",
    "# Initialize a 2 by 1 matrix \n",
    "B = np.matrix('1; 2')\n",
    "\n",
    "# We expect a resulting matrix of (3 by 2)*(2 by 1) = (3 by 1) \n",
    "mult_AB = A*B\n",
    "\n",
    "mult_AB"
   ]
  },
  {
   "cell_type": "markdown",
   "id": "c8ce1b7d-8a54-4148-bc1a-7458539bbe44",
   "metadata": {},
   "source": [
    "Identity Matrix "
   ]
  },
  {
   "cell_type": "code",
   "execution_count": 6,
   "id": "cc73bf63-15a6-4c97-9ca3-d849dc20cc68",
   "metadata": {},
   "outputs": [
    {
     "data": {
      "text/plain": [
       "matrix([[1., 2.],\n",
       "        [4., 5.]])"
      ]
     },
     "execution_count": 6,
     "metadata": {},
     "output_type": "execute_result"
    }
   ],
   "source": [
    "# Initialize random matrices A and B \n",
    "A = np.matrix('1,2;4,5')\n",
    "B = np.matrix('1,1;0,2')\n",
    "\n",
    "# Initialize a 2 by 2 identity matrix\n",
    "I = np.identity(2)\n",
    "\n",
    "# The above notation is the same as I = [1,0;0,1]\n",
    "\n",
    "# What happens when we multiply I*A ? \n",
    "IA = I*A \n",
    "\n",
    "IA"
   ]
  },
  {
   "cell_type": "code",
   "execution_count": 7,
   "id": "e403b846-1b2d-49d9-a558-f4278915e1fb",
   "metadata": {},
   "outputs": [
    {
     "data": {
      "text/plain": [
       "matrix([[1., 2.],\n",
       "        [4., 5.]])"
      ]
     },
     "execution_count": 7,
     "metadata": {},
     "output_type": "execute_result"
    }
   ],
   "source": [
    "# How about A*I ? \n",
    "AI = A*I \n",
    "AI"
   ]
  },
  {
   "cell_type": "code",
   "execution_count": 8,
   "id": "e0f9a815-8149-4f90-b707-1f0a72b878b3",
   "metadata": {},
   "outputs": [
    {
     "data": {
      "text/plain": [
       "matrix([[ 1,  5],\n",
       "        [ 4, 14]])"
      ]
     },
     "execution_count": 8,
     "metadata": {},
     "output_type": "execute_result"
    }
   ],
   "source": [
    "# Compute A*B \n",
    "AB = A*B \n",
    "AB"
   ]
  },
  {
   "cell_type": "code",
   "execution_count": 9,
   "id": "4f9ffbcd-edc2-43f8-9e6c-a894d2a4cca8",
   "metadata": {},
   "outputs": [
    {
     "data": {
      "text/plain": [
       "matrix([[ 5,  7],\n",
       "        [ 8, 10]])"
      ]
     },
     "execution_count": 9,
     "metadata": {},
     "output_type": "execute_result"
    }
   ],
   "source": [
    "# Is it equal to B*A? \n",
    "BA = B*A \n",
    "BA\n",
    "# Note that IA = AI but AB != BA"
   ]
  },
  {
   "cell_type": "code",
   "execution_count": 10,
   "id": "62572932-d0d5-4afa-a8d7-29d7ad1988e2",
   "metadata": {},
   "outputs": [
    {
     "data": {
      "text/plain": [
       "matrix([[1, 0, 7],\n",
       "        [2, 5, 0],\n",
       "        [0, 6, 9]])"
      ]
     },
     "execution_count": 10,
     "metadata": {},
     "output_type": "execute_result"
    }
   ],
   "source": [
    "# Initialize matrix A \n",
    "A = np.matrix('1,2,0;0,5,6;7,0,9')\n",
    "\n",
    "# Transpose A \n",
    "np.transpose(A)"
   ]
  },
  {
   "cell_type": "code",
   "execution_count": 12,
   "id": "67769063-3a93-44ef-9dbd-8289abf9086d",
   "metadata": {},
   "outputs": [
    {
     "data": {
      "text/plain": [
       "matrix([[ 0.34883721, -0.13953488,  0.09302326],\n",
       "        [ 0.3255814 ,  0.06976744, -0.04651163],\n",
       "        [-0.27131783,  0.10852713,  0.03875969]])"
      ]
     },
     "execution_count": 12,
     "metadata": {},
     "output_type": "execute_result"
    }
   ],
   "source": [
    "# Take the inverse of A \n",
    "np.linalg.inv(A)"
   ]
  },
  {
   "cell_type": "code",
   "execution_count": 14,
   "id": "bd6a615b-22b6-4261-8b59-e8b2e688d87c",
   "metadata": {},
   "outputs": [
    {
     "data": {
      "text/plain": [
       "matrix([[ 1., -0.,  0.],\n",
       "        [-0.,  1., -0.],\n",
       "        [-0.,  0.,  1.]])"
      ]
     },
     "execution_count": 14,
     "metadata": {},
     "output_type": "execute_result"
    }
   ],
   "source": [
    "# What is A^(-1)*A? \n",
    "A_invA = np.linalg.inv(A)*A\n",
    "A_invA.round()"
   ]
  }
 ],
 "metadata": {
  "kernelspec": {
   "display_name": "Python 3 (ipykernel)",
   "language": "python",
   "name": "python3"
  },
  "language_info": {
   "codemirror_mode": {
    "name": "ipython",
    "version": 3
   },
   "file_extension": ".py",
   "mimetype": "text/x-python",
   "name": "python",
   "nbconvert_exporter": "python",
   "pygments_lexer": "ipython3",
   "version": "3.8.10"
  }
 },
 "nbformat": 4,
 "nbformat_minor": 5
}
